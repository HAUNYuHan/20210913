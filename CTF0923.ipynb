{
  "nbformat": 4,
  "nbformat_minor": 0,
  "metadata": {
    "colab": {
      "name": "CTF0923.ipynb",
      "provenance": [],
      "authorship_tag": "ABX9TyM0z3f81TebJGrTO5Ry0/HB",
      "include_colab_link": true
    },
    "kernelspec": {
      "name": "python3",
      "display_name": "Python 3"
    },
    "language_info": {
      "name": "python"
    }
  },
  "cells": [
    {
      "cell_type": "markdown",
      "metadata": {
        "id": "view-in-github",
        "colab_type": "text"
      },
      "source": [
        "<a href=\"https://colab.research.google.com/github/HAUNYuHan/20210913/blob/master/CTF0923.ipynb\" target=\"_parent\"><img src=\"https://colab.research.google.com/assets/colab-badge.svg\" alt=\"Open In Colab\"/></a>"
      ]
    },
    {
      "cell_type": "code",
      "metadata": {
        "colab": {
          "base_uri": "https://localhost:8080/"
        },
        "id": "4KdDOk4218QM",
        "outputId": "83514e39-0148-4e98-e5e4-8fc1858b2727"
      },
      "source": [
        "!pip install pycrypto"
      ],
      "execution_count": 1,
      "outputs": [
        {
          "output_type": "stream",
          "name": "stdout",
          "text": [
            "Collecting pycrypto\n",
            "  Downloading pycrypto-2.6.1.tar.gz (446 kB)\n",
            "\u001b[?25l\r\u001b[K     |▊                               | 10 kB 20.9 MB/s eta 0:00:01\r\u001b[K     |█▌                              | 20 kB 10.5 MB/s eta 0:00:01\r\u001b[K     |██▏                             | 30 kB 8.6 MB/s eta 0:00:01\r\u001b[K     |███                             | 40 kB 8.0 MB/s eta 0:00:01\r\u001b[K     |███▊                            | 51 kB 5.1 MB/s eta 0:00:01\r\u001b[K     |████▍                           | 61 kB 5.2 MB/s eta 0:00:01\r\u001b[K     |█████▏                          | 71 kB 5.7 MB/s eta 0:00:01\r\u001b[K     |█████▉                          | 81 kB 5.6 MB/s eta 0:00:01\r\u001b[K     |██████▋                         | 92 kB 4.5 MB/s eta 0:00:01\r\u001b[K     |███████▍                        | 102 kB 5.0 MB/s eta 0:00:01\r\u001b[K     |████████                        | 112 kB 5.0 MB/s eta 0:00:01\r\u001b[K     |████████▉                       | 122 kB 5.0 MB/s eta 0:00:01\r\u001b[K     |█████████▌                      | 133 kB 5.0 MB/s eta 0:00:01\r\u001b[K     |██████████▎                     | 143 kB 5.0 MB/s eta 0:00:01\r\u001b[K     |███████████                     | 153 kB 5.0 MB/s eta 0:00:01\r\u001b[K     |███████████▊                    | 163 kB 5.0 MB/s eta 0:00:01\r\u001b[K     |████████████▌                   | 174 kB 5.0 MB/s eta 0:00:01\r\u001b[K     |█████████████▏                  | 184 kB 5.0 MB/s eta 0:00:01\r\u001b[K     |██████████████                  | 194 kB 5.0 MB/s eta 0:00:01\r\u001b[K     |██████████████▊                 | 204 kB 5.0 MB/s eta 0:00:01\r\u001b[K     |███████████████▍                | 215 kB 5.0 MB/s eta 0:00:01\r\u001b[K     |████████████████▏               | 225 kB 5.0 MB/s eta 0:00:01\r\u001b[K     |█████████████████               | 235 kB 5.0 MB/s eta 0:00:01\r\u001b[K     |█████████████████▋              | 245 kB 5.0 MB/s eta 0:00:01\r\u001b[K     |██████████████████▍             | 256 kB 5.0 MB/s eta 0:00:01\r\u001b[K     |███████████████████             | 266 kB 5.0 MB/s eta 0:00:01\r\u001b[K     |███████████████████▉            | 276 kB 5.0 MB/s eta 0:00:01\r\u001b[K     |████████████████████▋           | 286 kB 5.0 MB/s eta 0:00:01\r\u001b[K     |█████████████████████▎          | 296 kB 5.0 MB/s eta 0:00:01\r\u001b[K     |██████████████████████          | 307 kB 5.0 MB/s eta 0:00:01\r\u001b[K     |██████████████████████▊         | 317 kB 5.0 MB/s eta 0:00:01\r\u001b[K     |███████████████████████▌        | 327 kB 5.0 MB/s eta 0:00:01\r\u001b[K     |████████████████████████▎       | 337 kB 5.0 MB/s eta 0:00:01\r\u001b[K     |█████████████████████████       | 348 kB 5.0 MB/s eta 0:00:01\r\u001b[K     |█████████████████████████▊      | 358 kB 5.0 MB/s eta 0:00:01\r\u001b[K     |██████████████████████████▍     | 368 kB 5.0 MB/s eta 0:00:01\r\u001b[K     |███████████████████████████▏    | 378 kB 5.0 MB/s eta 0:00:01\r\u001b[K     |████████████████████████████    | 389 kB 5.0 MB/s eta 0:00:01\r\u001b[K     |████████████████████████████▋   | 399 kB 5.0 MB/s eta 0:00:01\r\u001b[K     |█████████████████████████████▍  | 409 kB 5.0 MB/s eta 0:00:01\r\u001b[K     |██████████████████████████████  | 419 kB 5.0 MB/s eta 0:00:01\r\u001b[K     |██████████████████████████████▉ | 430 kB 5.0 MB/s eta 0:00:01\r\u001b[K     |███████████████████████████████▋| 440 kB 5.0 MB/s eta 0:00:01\r\u001b[K     |████████████████████████████████| 446 kB 5.0 MB/s \n",
            "\u001b[?25hBuilding wheels for collected packages: pycrypto\n",
            "  Building wheel for pycrypto (setup.py) ... \u001b[?25l\u001b[?25hdone\n",
            "  Created wheel for pycrypto: filename=pycrypto-2.6.1-cp37-cp37m-linux_x86_64.whl size=499932 sha256=a5416d3f147439b9320178924c37135586d7102f73347fc3062069c5d28567f3\n",
            "  Stored in directory: /root/.cache/pip/wheels/cf/85/ba/bbd7c96add459de7598fb424e5ff2309baf2095c844ac0f191\n",
            "Successfully built pycrypto\n",
            "Installing collected packages: pycrypto\n",
            "Successfully installed pycrypto-2.6.1\n"
          ]
        }
      ]
    },
    {
      "cell_type": "code",
      "metadata": {
        "colab": {
          "base_uri": "https://localhost:8080/"
        },
        "id": "9ogS3WV32p5p",
        "outputId": "0399c9fe-f03d-47fa-ac47-eecc4abe5162"
      },
      "source": [
        "from Crypto.Cipher import AES\n",
        "\n",
        "obj = AES.new('This is a key123', AES.MODE_CBC, 'This is an IV456')\n",
        "\n",
        "message = \"flag(HappyCrypt)\"\n",
        "\n",
        "ciphertext = obj.encrypt(message)\n",
        "ciphertext\n",
        "\n"
      ],
      "execution_count": 4,
      "outputs": [
        {
          "output_type": "execute_result",
          "data": {
            "text/plain": [
              "b'J\\xae\\xd1J\\xbdS\\x8d\\x99\\xaf\\xc3N\\xba\\xde\\xeb>['"
            ]
          },
          "metadata": {},
          "execution_count": 4
        }
      ]
    },
    {
      "cell_type": "code",
      "metadata": {
        "colab": {
          "base_uri": "https://localhost:8080/"
        },
        "id": "DKqGZmkJ4CIZ",
        "outputId": "5d15dbd1-c23d-48ef-fcac-d84b1df52171"
      },
      "source": [
        "obj2 = AES.new('This is a key123', AES.MODE_CBC, 'This is an IV456')\n",
        "\n",
        "obj2.decrypt(ciphertext)"
      ],
      "execution_count": 5,
      "outputs": [
        {
          "output_type": "execute_result",
          "data": {
            "text/plain": [
              "b'flag(HappyCrypt)'"
            ]
          },
          "metadata": {},
          "execution_count": 5
        }
      ]
    }
  ]
}