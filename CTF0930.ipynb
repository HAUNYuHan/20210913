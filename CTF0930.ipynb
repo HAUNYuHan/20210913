{
  "nbformat": 4,
  "nbformat_minor": 0,
  "metadata": {
    "colab": {
      "name": "CTF0930.ipynb",
      "provenance": [],
      "authorship_tag": "ABX9TyNNkXg6AveohRZRLSu6RQMh",
      "include_colab_link": true
    },
    "kernelspec": {
      "name": "python3",
      "display_name": "Python 3"
    },
    "language_info": {
      "name": "python"
    }
  },
  "cells": [
    {
      "cell_type": "markdown",
      "metadata": {
        "id": "view-in-github",
        "colab_type": "text"
      },
      "source": [
        "<a href=\"https://colab.research.google.com/github/HAUNYuHan/20210913/blob/master/CTF0930.ipynb\" target=\"_parent\"><img src=\"https://colab.research.google.com/assets/colab-badge.svg\" alt=\"Open In Colab\"/></a>"
      ]
    },
    {
      "cell_type": "code",
      "metadata": {
        "id": "pCjWbd6_evYb"
      },
      "source": [
        "!sudo pip install pycrypto"
      ],
      "execution_count": null,
      "outputs": []
    },
    {
      "cell_type": "code",
      "metadata": {
        "id": "wm7A-8J0evbb"
      },
      "source": [
        "!sudo apt install libmpc-dev"
      ],
      "execution_count": null,
      "outputs": []
    },
    {
      "cell_type": "code",
      "metadata": {
        "id": "0S58SN6Re9KL"
      },
      "source": [
        "!sudo apt install python3-pip"
      ],
      "execution_count": null,
      "outputs": []
    },
    {
      "cell_type": "code",
      "metadata": {
        "colab": {
          "base_uri": "https://localhost:8080/"
        },
        "id": "buZjt5LQeveb",
        "outputId": "21080357-555d-4458-d344-00f5f73f0ddd"
      },
      "source": [
        "!pip3 install --user gmpy2==2.1.0a2"
      ],
      "execution_count": 18,
      "outputs": [
        {
          "output_type": "stream",
          "name": "stdout",
          "text": [
            "Collecting gmpy2==2.1.0a2\n",
            "  Downloading gmpy2-2.1.0a2.tar.gz (236 kB)\n",
            "\u001b[?25l\r\u001b[K     |█▍                              | 10 kB 27.9 MB/s eta 0:00:01\r\u001b[K     |██▊                             | 20 kB 31.4 MB/s eta 0:00:01\r\u001b[K     |████▏                           | 30 kB 20.0 MB/s eta 0:00:01\r\u001b[K     |█████▌                          | 40 kB 16.2 MB/s eta 0:00:01\r\u001b[K     |███████                         | 51 kB 7.2 MB/s eta 0:00:01\r\u001b[K     |████████▎                       | 61 kB 8.5 MB/s eta 0:00:01\r\u001b[K     |█████████▊                      | 71 kB 8.0 MB/s eta 0:00:01\r\u001b[K     |███████████                     | 81 kB 8.9 MB/s eta 0:00:01\r\u001b[K     |████████████▌                   | 92 kB 9.2 MB/s eta 0:00:01\r\u001b[K     |█████████████▉                  | 102 kB 7.1 MB/s eta 0:00:01\r\u001b[K     |███████████████▎                | 112 kB 7.1 MB/s eta 0:00:01\r\u001b[K     |████████████████▋               | 122 kB 7.1 MB/s eta 0:00:01\r\u001b[K     |██████████████████              | 133 kB 7.1 MB/s eta 0:00:01\r\u001b[K     |███████████████████▍            | 143 kB 7.1 MB/s eta 0:00:01\r\u001b[K     |████████████████████▉           | 153 kB 7.1 MB/s eta 0:00:01\r\u001b[K     |██████████████████████▏         | 163 kB 7.1 MB/s eta 0:00:01\r\u001b[K     |███████████████████████▋        | 174 kB 7.1 MB/s eta 0:00:01\r\u001b[K     |█████████████████████████       | 184 kB 7.1 MB/s eta 0:00:01\r\u001b[K     |██████████████████████████▍     | 194 kB 7.1 MB/s eta 0:00:01\r\u001b[K     |███████████████████████████▊    | 204 kB 7.1 MB/s eta 0:00:01\r\u001b[K     |█████████████████████████████▏  | 215 kB 7.1 MB/s eta 0:00:01\r\u001b[K     |██████████████████████████████▌ | 225 kB 7.1 MB/s eta 0:00:01\r\u001b[K     |████████████████████████████████| 235 kB 7.1 MB/s eta 0:00:01\r\u001b[K     |████████████████████████████████| 236 kB 7.1 MB/s \n",
            "\u001b[?25hBuilding wheels for collected packages: gmpy2\n",
            "  Building wheel for gmpy2 (setup.py) ... \u001b[?25l\u001b[?25hdone\n",
            "  Created wheel for gmpy2: filename=gmpy2-2.1.0a2-cp37-cp37m-linux_x86_64.whl size=495514 sha256=2fa76d4e9d837ac3d8f8394ef1cc31fd86f8591b031a21ee270b83188aac798b\n",
            "  Stored in directory: /root/.cache/pip/wheels/21/e2/c1/9107a0ae9f4e52ea07896e3094bdd96a4a1bfb5b7375327681\n",
            "Successfully built gmpy2\n",
            "Installing collected packages: gmpy2\n",
            "Successfully installed gmpy2-2.1.0a2\n"
          ]
        }
      ]
    },
    {
      "cell_type": "code",
      "metadata": {
        "colab": {
          "base_uri": "https://localhost:8080/"
        },
        "id": "-R5y-qAlfG1s",
        "outputId": "33508937-e980-4bd3-9adc-f7e42ea05be5"
      },
      "source": [
        "#!/usr/bin/env python\n",
        "from Crypto.Util.number import *\n",
        "# import gmpy2\n",
        "\n",
        "p =2262150367\n",
        "q =3006300461\n",
        "r =12218233223644524650141958853163065112163255395621655741865064529020634406575730714768264558014607893896434523845321502371618344594488810317052606914954669\n",
        "\n",
        "n = 83092583783534841000145280642003842283533340442637642451258941907393275732996256523893438356692786223410880194199043046345864683398238392329295750150314289824255749149834103\n",
        "e =11\n",
        "c =32392151763267291269610586564983347951891395196084251182633225594245167922176424232164117237142038355860036871811244158149537196288428230971760474130300660929743492107190512\n",
        "\n",
        "\n",
        "phi = (p-1)*(q-1)*(r-1)\n",
        "\n",
        "#d = int(gmpy2.invert(e, phi))\n",
        "d =mod_inverse(e, phi)\n",
        "m = pow(c,d,n)\n",
        "\n",
        "print(long_to_bytes(m))"
      ],
      "execution_count": 19,
      "outputs": [
        {
          "output_type": "stream",
          "name": "stdout",
          "text": [
            "b'BreakALLCTF{R$A_!s_so_e@sy_r!ght?....}'\n"
          ]
        }
      ]
    }
  ]
}