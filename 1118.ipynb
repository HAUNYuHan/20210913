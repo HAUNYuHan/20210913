{
  "nbformat": 4,
  "nbformat_minor": 0,
  "metadata": {
    "colab": {
      "name": "1118.ipynb",
      "provenance": [],
      "authorship_tag": "ABX9TyM0vmlfzjVHfnFqQ6lcs0dp",
      "include_colab_link": true
    },
    "kernelspec": {
      "name": "python3",
      "display_name": "Python 3"
    },
    "language_info": {
      "name": "python"
    }
  },
  "cells": [
    {
      "cell_type": "markdown",
      "metadata": {
        "id": "view-in-github",
        "colab_type": "text"
      },
      "source": [
        "<a href=\"https://colab.research.google.com/github/HAUNYuHan/20210913/blob/master/1118.ipynb\" target=\"_parent\"><img src=\"https://colab.research.google.com/assets/colab-badge.svg\" alt=\"Open In Colab\"/></a>"
      ]
    },
    {
      "cell_type": "code",
      "metadata": {
        "colab": {
          "base_uri": "https://localhost:8080/"
        },
        "id": "aEG-XwbKbOBd",
        "outputId": "2ece1632-3b42-424f-ec22-775b6db1b9d5"
      },
      "source": [
        "!pip install pycrypto"
      ],
      "execution_count": 2,
      "outputs": [
        {
          "output_type": "stream",
          "name": "stdout",
          "text": [
            "Collecting pycrypto\n",
            "  Downloading pycrypto-2.6.1.tar.gz (446 kB)\n",
            "\u001b[?25l\r\u001b[K     |▊                               | 10 kB 18.8 MB/s eta 0:00:01\r\u001b[K     |█▌                              | 20 kB 23.9 MB/s eta 0:00:01\r\u001b[K     |██▏                             | 30 kB 13.7 MB/s eta 0:00:01\r\u001b[K     |███                             | 40 kB 10.0 MB/s eta 0:00:01\r\u001b[K     |███▊                            | 51 kB 5.4 MB/s eta 0:00:01\r\u001b[K     |████▍                           | 61 kB 6.0 MB/s eta 0:00:01\r\u001b[K     |█████▏                          | 71 kB 5.7 MB/s eta 0:00:01\r\u001b[K     |█████▉                          | 81 kB 6.3 MB/s eta 0:00:01\r\u001b[K     |██████▋                         | 92 kB 4.8 MB/s eta 0:00:01\r\u001b[K     |███████▍                        | 102 kB 5.1 MB/s eta 0:00:01\r\u001b[K     |████████                        | 112 kB 5.1 MB/s eta 0:00:01\r\u001b[K     |████████▉                       | 122 kB 5.1 MB/s eta 0:00:01\r\u001b[K     |█████████▌                      | 133 kB 5.1 MB/s eta 0:00:01\r\u001b[K     |██████████▎                     | 143 kB 5.1 MB/s eta 0:00:01\r\u001b[K     |███████████                     | 153 kB 5.1 MB/s eta 0:00:01\r\u001b[K     |███████████▊                    | 163 kB 5.1 MB/s eta 0:00:01\r\u001b[K     |████████████▌                   | 174 kB 5.1 MB/s eta 0:00:01\r\u001b[K     |█████████████▏                  | 184 kB 5.1 MB/s eta 0:00:01\r\u001b[K     |██████████████                  | 194 kB 5.1 MB/s eta 0:00:01\r\u001b[K     |██████████████▊                 | 204 kB 5.1 MB/s eta 0:00:01\r\u001b[K     |███████████████▍                | 215 kB 5.1 MB/s eta 0:00:01\r\u001b[K     |████████████████▏               | 225 kB 5.1 MB/s eta 0:00:01\r\u001b[K     |█████████████████               | 235 kB 5.1 MB/s eta 0:00:01\r\u001b[K     |█████████████████▋              | 245 kB 5.1 MB/s eta 0:00:01\r\u001b[K     |██████████████████▍             | 256 kB 5.1 MB/s eta 0:00:01\r\u001b[K     |███████████████████             | 266 kB 5.1 MB/s eta 0:00:01\r\u001b[K     |███████████████████▉            | 276 kB 5.1 MB/s eta 0:00:01\r\u001b[K     |████████████████████▋           | 286 kB 5.1 MB/s eta 0:00:01\r\u001b[K     |█████████████████████▎          | 296 kB 5.1 MB/s eta 0:00:01\r\u001b[K     |██████████████████████          | 307 kB 5.1 MB/s eta 0:00:01\r\u001b[K     |██████████████████████▊         | 317 kB 5.1 MB/s eta 0:00:01\r\u001b[K     |███████████████████████▌        | 327 kB 5.1 MB/s eta 0:00:01\r\u001b[K     |████████████████████████▎       | 337 kB 5.1 MB/s eta 0:00:01\r\u001b[K     |█████████████████████████       | 348 kB 5.1 MB/s eta 0:00:01\r\u001b[K     |█████████████████████████▊      | 358 kB 5.1 MB/s eta 0:00:01\r\u001b[K     |██████████████████████████▍     | 368 kB 5.1 MB/s eta 0:00:01\r\u001b[K     |███████████████████████████▏    | 378 kB 5.1 MB/s eta 0:00:01\r\u001b[K     |████████████████████████████    | 389 kB 5.1 MB/s eta 0:00:01\r\u001b[K     |████████████████████████████▋   | 399 kB 5.1 MB/s eta 0:00:01\r\u001b[K     |█████████████████████████████▍  | 409 kB 5.1 MB/s eta 0:00:01\r\u001b[K     |██████████████████████████████  | 419 kB 5.1 MB/s eta 0:00:01\r\u001b[K     |██████████████████████████████▉ | 430 kB 5.1 MB/s eta 0:00:01\r\u001b[K     |███████████████████████████████▋| 440 kB 5.1 MB/s eta 0:00:01\r\u001b[K     |████████████████████████████████| 446 kB 5.1 MB/s \n",
            "\u001b[?25hBuilding wheels for collected packages: pycrypto\n",
            "  Building wheel for pycrypto (setup.py) ... \u001b[?25l\u001b[?25hdone\n",
            "  Created wheel for pycrypto: filename=pycrypto-2.6.1-cp37-cp37m-linux_x86_64.whl size=499932 sha256=b2e3ecb8ed137966bc846813a1f9167af605d9880b00798f391e3a9b94b9dced\n",
            "  Stored in directory: /root/.cache/pip/wheels/cf/85/ba/bbd7c96add459de7598fb424e5ff2309baf2095c844ac0f191\n",
            "Successfully built pycrypto\n",
            "Installing collected packages: pycrypto\n",
            "Successfully installed pycrypto-2.6.1\n"
          ]
        }
      ]
    },
    {
      "cell_type": "code",
      "metadata": {
        "id": "t7n_gl8LcMit"
      },
      "source": [
        "import hashlib\n",
        "import math\n",
        "import os\n",
        "\n",
        "from Crypto.Cipher import AES\n",
        "\n",
        "IV_SIZE = 16    # 128 bit, fixed for the AES algorithm\n",
        "KEY_SIZE = 32   # 256 bit meaning AES-256, can also be 128 or 192 bits\n",
        "SALT_SIZE = 16  # This size is arbitrary\n",
        "\n",
        "cleartext = b'Lorem ipsum'\n",
        "password = b'highly secure encryption password'\n",
        "salt = os.urandom(SALT_SIZE)\n",
        "derived = hashlib.pbkdf2_hmac('sha256', password, salt, 100000,\n",
        "                              dklen=IV_SIZE + KEY_SIZE)\n",
        "iv = derived[0:IV_SIZE]\n",
        "key = derived[IV_SIZE:]\n",
        "\n",
        "encrypted = salt + AES.new(key, AES.MODE_CFB, iv).encrypt(cleartext)"
      ],
      "execution_count": 6,
      "outputs": []
    },
    {
      "cell_type": "code",
      "metadata": {
        "id": "2yhmyVszcQX8"
      },
      "source": [
        "salt = encrypted[0:SALT_SIZE]\n",
        "derived = hashlib.pbkdf2_hmac('sha256', password, salt, 100000,\n",
        "                              dklen=IV_SIZE + KEY_SIZE)\n",
        "iv = derived[0:IV_SIZE]\n",
        "key = derived[IV_SIZE:]\n",
        "cleartext = AES.new(key, AES.MODE_CFB, iv).decrypt(encrypted[SALT_SIZE:])"
      ],
      "execution_count": 7,
      "outputs": []
    },
    {
      "cell_type": "code",
      "metadata": {
        "id": "9oq7NG4IcbWV"
      },
      "source": [
        "import errno\n",
        "\n",
        "from Crypto.Hash import SHA256\n",
        "from Crypto.PublicKey import RSA\n",
        "from Crypto.Signature import PKCS1_v1_5\n",
        "\n",
        "message = b'This message is from me, I promise.'\n",
        "\n",
        "try:\n",
        "    with open('privkey.pem', 'r') as f:\n",
        "        key = RSA.importKey(f.read())\n",
        "except IOError as e:\n",
        "    if e.errno != errno.ENOENT:\n",
        "        raise\n",
        "    # No private key, generate a new one. This can take a few seconds.\n",
        "    key = RSA.generate(4096)\n",
        "    with open('privkey.pem', 'wb') as f:\n",
        "        f.write(key.exportKey('PEM'))\n",
        "    with open('pubkey.pem', 'wb') as f:\n",
        "        f.write(key.publickey().exportKey('PEM'))\n",
        "\n",
        "hasher = SHA256.new(message)\n",
        "signer = PKCS1_v1_5.new(key)\n",
        "signature = signer.sign(hasher)"
      ],
      "execution_count": 8,
      "outputs": []
    },
    {
      "cell_type": "code",
      "metadata": {
        "colab": {
          "base_uri": "https://localhost:8080/"
        },
        "id": "DX8ADxRvcj8l",
        "outputId": "18cbd529-1df2-4e14-ebb8-8e33ccfac18a"
      },
      "source": [
        "with open('pubkey.pem', 'rb') as f:\n",
        "    key = RSA.importKey(f.read())\n",
        "hasher = SHA256.new(message)\n",
        "verifier = PKCS1_v1_5.new(key)\n",
        "if verifier.verify(hasher, signature):\n",
        "    print('Nice, the signature is valid!')\n",
        "else:\n",
        "    print('No, the message was signed with the wrong private key or modified')"
      ],
      "execution_count": 9,
      "outputs": [
        {
          "output_type": "stream",
          "name": "stdout",
          "text": [
            "Nice, the signature is valid!\n"
          ]
        }
      ]
    },
    {
      "cell_type": "code",
      "metadata": {
        "id": "syVYmpXHeCym"
      },
      "source": [
        "import hashlib\n",
        "import math\n",
        "import os\n",
        "\n",
        "from Crypto.Cipher import AES\n",
        "\n",
        "IV_SIZE = 16    # 128 bit, fixed for the AES algorithm\n",
        "KEY_SIZE = 32   # 256 bit meaning AES-256, can also be 128 or 192 bits\n",
        "SALT_SIZE = 16  # This size is arbitrary\n",
        "\n",
        "cleartext = b'Lorem ipsum'\n",
        "password = b'highly secure encryption password'\n",
        "salt = os.urandom(SALT_SIZE)\n",
        "derived = hashlib.pbkdf2_hmac('sha256', password, salt, 100000,\n",
        "                              dklen=IV_SIZE + KEY_SIZE)\n",
        "iv = derived[0:IV_SIZE]\n",
        "key = derived[IV_SIZE:]\n",
        "\n",
        "encrypted = salt + AES.new(key, AES.MODE_CFB, iv).encrypt(cleartext)"
      ],
      "execution_count": 10,
      "outputs": []
    },
    {
      "cell_type": "code",
      "metadata": {
        "id": "2tyIUnxFeKJ9"
      },
      "source": [
        "salt = encrypted[0:SALT_SIZE]\n",
        "derived = hashlib.pbkdf2_hmac('sha256', password, salt, 100000,\n",
        "                              dklen=IV_SIZE + KEY_SIZE)\n",
        "iv = derived[0:IV_SIZE]\n",
        "key = derived[IV_SIZE:]\n",
        "cleartext = AES.new(key, AES.MODE_CFB, iv).decrypt(encrypted[SALT_SIZE:])"
      ],
      "execution_count": 12,
      "outputs": []
    },
    {
      "cell_type": "code",
      "metadata": {
        "id": "FgfefUONomXq"
      },
      "source": [
        "import hashlib\n",
        "import os\n",
        "\n",
        "salt = os.urandom(16)\n",
        "hash = hashlib.pbkdf2_hmac('sha256', b'password', salt, 100000)"
      ],
      "execution_count": 17,
      "outputs": []
    },
    {
      "cell_type": "code",
      "metadata": {
        "id": "O8Ml67V8ormC"
      },
      "source": [
        "import binascii\n",
        "hexhash = binascii.hexlify(hash)"
      ],
      "execution_count": 19,
      "outputs": []
    },
    {
      "cell_type": "code",
      "metadata": {
        "colab": {
          "base_uri": "https://localhost:8080/"
        },
        "id": "B4p4roSnoxvi",
        "outputId": "155b7426-5846-4421-c48b-88e60212b6a1"
      },
      "source": [
        "import hashlib\n",
        "\n",
        "h = hashlib.new('sha256')\n",
        "h.update(b'Nobody expects the Spanish Inquisition.')\n",
        "h.digest()\n",
        "# ==> b'.\\xdf\\xda\\xdaVR[\\x12\\x90\\xff\\x16\\xfb\\x17D\\xcf\\xb4\\x82\\xdd)\\x14\\xff\\xbc\\xb6Iy\\x0c\\x0eX\\x9eF-='"
      ],
      "execution_count": 20,
      "outputs": [
        {
          "output_type": "execute_result",
          "data": {
            "text/plain": [
              "b'.\\xdf\\xda\\xdaVR[\\x12\\x90\\xff\\x16\\xfb\\x17D\\xcf\\xb4\\x82\\xdd)\\x14\\xff\\xbc\\xb6Iy\\x0c\\x0eX\\x9eF-='"
            ]
          },
          "metadata": {},
          "execution_count": 20
        }
      ]
    },
    {
      "cell_type": "code",
      "metadata": {
        "colab": {
          "base_uri": "https://localhost:8080/",
          "height": 35
        },
        "id": "-LqtVwD5ozP6",
        "outputId": "598f115e-b3af-4c7c-91c1-675604a4e23f"
      },
      "source": [
        "h.hexdigest()\n",
        "# ==> '2edfdada56525b1290ff16fb1744cfb482dd2914ffbcb649790c0e589e462d3d'"
      ],
      "execution_count": 21,
      "outputs": [
        {
          "output_type": "execute_result",
          "data": {
            "application/vnd.google.colaboratory.intrinsic+json": {
              "type": "string"
            },
            "text/plain": [
              "'2edfdada56525b1290ff16fb1744cfb482dd2914ffbcb649790c0e589e462d3d'"
            ]
          },
          "metadata": {},
          "execution_count": 21
        }
      ]
    },
    {
      "cell_type": "code",
      "metadata": {
        "colab": {
          "base_uri": "https://localhost:8080/"
        },
        "id": "2lcMpMkkoLVr",
        "outputId": "8d8da75c-ca6f-43f8-e90f-c5bd136ea256"
      },
      "source": [
        "import hashlib\n",
        "hashlib.algorithms_available\n",
        "# ==> {'sha256', 'DSA-SHA', 'SHA512', 'SHA224', 'dsaWithSHA', 'SHA', 'RIPEMD160', 'ecdsa-with-SHA1', 'sha1', 'SHA384', 'md5', 'SHA1', 'MD5', 'MD4', 'SHA256', 'sha384', 'md4', 'ripemd160', 'sha224', 'sha512', 'DSA', 'dsaEncryption', 'sha', 'whirlpool'}"
      ],
      "execution_count": 14,
      "outputs": [
        {
          "output_type": "execute_result",
          "data": {
            "text/plain": [
              "{'blake2b',\n",
              " 'blake2s',\n",
              " 'md5',\n",
              " 'sha1',\n",
              " 'sha224',\n",
              " 'sha256',\n",
              " 'sha384',\n",
              " 'sha3_224',\n",
              " 'sha3_256',\n",
              " 'sha3_384',\n",
              " 'sha3_512',\n",
              " 'sha512',\n",
              " 'shake_128',\n",
              " 'shake_256'}"
            ]
          },
          "metadata": {},
          "execution_count": 14
        }
      ]
    },
    {
      "cell_type": "code",
      "metadata": {
        "colab": {
          "base_uri": "https://localhost:8080/"
        },
        "id": "tCdKvMmoo9hS",
        "outputId": "f7279c78-0e10-4cfd-a15a-f7f641fa984b"
      },
      "source": [
        "hashlib.algorithms_guaranteed\n",
        "# ==> {'sha256', 'sha384', 'sha1', 'sha224', 'md5', 'sha512'}"
      ],
      "execution_count": 24,
      "outputs": [
        {
          "output_type": "execute_result",
          "data": {
            "text/plain": [
              "{'blake2b',\n",
              " 'blake2s',\n",
              " 'md5',\n",
              " 'sha1',\n",
              " 'sha224',\n",
              " 'sha256',\n",
              " 'sha384',\n",
              " 'sha3_224',\n",
              " 'sha3_256',\n",
              " 'sha3_384',\n",
              " 'sha3_512',\n",
              " 'sha512',\n",
              " 'shake_128',\n",
              " 'shake_256'}"
            ]
          },
          "metadata": {},
          "execution_count": 24
        }
      ]
    },
    {
      "cell_type": "code",
      "metadata": {
        "colab": {
          "base_uri": "https://localhost:8080/"
        },
        "id": "wXbYHHotqhsr",
        "outputId": "bf6ba378-f39c-479f-f1f3-0f649c5d2b96"
      },
      "source": [
        "from Crypto.Util.number import GCD\n",
        "\n",
        "GCD(12,18)\n"
      ],
      "execution_count": 28,
      "outputs": [
        {
          "output_type": "execute_result",
          "data": {
            "text/plain": [
              "6"
            ]
          },
          "metadata": {},
          "execution_count": 28
        }
      ]
    },
    {
      "cell_type": "code",
      "metadata": {
        "colab": {
          "base_uri": "https://localhost:8080/"
        },
        "id": "wwv0QF9AqlKr",
        "outputId": "7d4d1628-1123-445c-9c90-11c2b34d66dc"
      },
      "source": [
        "from Crypto.Cipher import AES\n",
        "\n",
        "obj = AES.new('This is a key123', AES.MODE_CBC, 'This is an IV456')\n",
        "\n",
        "message = \"flag(HappyCrypt)\"\n",
        "\n",
        "ciphertext = obj.encrypt(message)\n",
        "ciphertext"
      ],
      "execution_count": 29,
      "outputs": [
        {
          "output_type": "execute_result",
          "data": {
            "text/plain": [
              "b'J\\xae\\xd1J\\xbdS\\x8d\\x99\\xaf\\xc3N\\xba\\xde\\xeb>['"
            ]
          },
          "metadata": {},
          "execution_count": 29
        }
      ]
    },
    {
      "cell_type": "code",
      "metadata": {
        "colab": {
          "base_uri": "https://localhost:8080/"
        },
        "id": "N72dVjZNqniT",
        "outputId": "6e07fc10-e671-4345-9ece-e6ecc193645b"
      },
      "source": [
        "obj2 = AES.new('This is a key123', AES.MODE_CBC, 'This is an IV456')\n",
        "\n",
        "obj2.decrypt(ciphertext)"
      ],
      "execution_count": 30,
      "outputs": [
        {
          "output_type": "execute_result",
          "data": {
            "text/plain": [
              "b'flag(HappyCrypt)'"
            ]
          },
          "metadata": {},
          "execution_count": 30
        }
      ]
    },
    {
      "cell_type": "code",
      "metadata": {
        "colab": {
          "base_uri": "https://localhost:8080/"
        },
        "id": "nBSyICvKrzSb",
        "outputId": "0f5ac86d-a4bf-4149-914c-366430210bca"
      },
      "source": [
        "from Crypto.Random import get_random_bytes\n",
        "\n",
        "# 產生 256 位元隨機金鑰（32 位元組 = 256 位元）\n",
        "key = get_random_bytes(32)\n",
        "print(key)"
      ],
      "execution_count": 33,
      "outputs": [
        {
          "output_type": "stream",
          "name": "stdout",
          "text": [
            "b'\\xfb\\xd8\\x92\\x82\\xeaEt\\xa4%\\xe4\\xdc>\\xf6\\x9c\\xb7\\x18]q\\x15f\\xc57\\xefE\\x08\\xedu\\xcc\\x966\\x17\\xeb'\n"
          ]
        }
      ]
    },
    {
      "cell_type": "code",
      "metadata": {
        "colab": {
          "base_uri": "https://localhost:8080/"
        },
        "id": "tSLdQkjir1Ja",
        "outputId": "56685276-d106-46c3-98c8-61ac95349e62"
      },
      "source": [
        "print(get_random_bytes(32))"
      ],
      "execution_count": 34,
      "outputs": [
        {
          "output_type": "stream",
          "name": "stdout",
          "text": [
            "b'\\xfe\\x03\\x93\\x88\\xbd#b\\x06\\xce\\x9f\\xab\\xae\\xa0Ua\\x16\\xc9\\x1dGy\\xf8\\xe3\\x94\\xc9\\x82\\xa4r\\xcff\\xe7\\x07\\x89'\n"
          ]
        }
      ]
    },
    {
      "cell_type": "code",
      "metadata": {
        "id": "mBgo4VKHr4pK"
      },
      "source": [
        "from Crypto.Protocol.KDF import PBKDF2\n",
        "\n",
        "# 固定的 salt\n",
        "salt = b'\\xd0\\x18\\xa7QM\\xd6\\x9b\\xebxu\\xe4\\xed\\xa8\\x83\\xf6\\xa3/\\x01\\x9c\\x9e\\x86n\\xda;\\x10EdD\\xf7\\x932\\xcc'\n",
        "\n",
        "# 密碼\n",
        "password = 'my#password'\n",
        "\n",
        "# 根據密碼與 salt 產生金鑰\n",
        "key = PBKDF2(password, salt, dkLen=32)"
      ],
      "execution_count": 35,
      "outputs": []
    }
  ]
}